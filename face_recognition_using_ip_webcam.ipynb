{
 "cells": [
  {
   "cell_type": "code",
   "execution_count": 1,
   "metadata": {},
   "outputs": [],
   "source": [
    "import cv2 \n",
    "import numpy as np\n",
    "import urllib.request\n",
    "url='http://172.20.10.10:8080/shot.jpg'\n",
    "imgResp=urllib.request.urlopen(url)\n",
    "imgNp=np.array(bytearray(imgResp.read()),dtype=np.uint8)\n",
    "img=cv2.imdecode(imgNp,-1)\n",
    "face_cas=cv2.CascadeClassifier('D://face.xml')\n",
    "while True:\n",
    "    gray=cv2.cvtColor(img,cv2.COLOR_BGR2GRAY)\n",
    "    face=face_cas.detectMultiScale(gray,1.1,4)\n",
    "    for (x,y,w,h) in face:\n",
    "        cv2.rectangle(img,(x,y),(x+w,y+h),(255,0,255),5,5)\n",
    "    cv2.imshow('img',img)\n",
    "    interrupt = cv2.waitKey(10)\n",
    "    if interrupt & 0xFF == 27: # esc key\n",
    "        break    \n",
    "    imgResp=urllib.request.urlopen(url)\n",
    "    imgNp=np.array(bytearray(imgResp.read()),dtype=np.uint8)\n",
    "    img=cv2.imdecode(imgNp,-1)\n",
    "cv2.destroyAllWindows()    "
   ]
  },
  {
   "cell_type": "code",
   "execution_count": null,
   "metadata": {},
   "outputs": [],
   "source": []
  }
 ],
 "metadata": {
  "kernelspec": {
   "display_name": "Python 3",
   "language": "python",
   "name": "python3"
  },
  "language_info": {
   "codemirror_mode": {
    "name": "ipython",
    "version": 3
   },
   "file_extension": ".py",
   "mimetype": "text/x-python",
   "name": "python",
   "nbconvert_exporter": "python",
   "pygments_lexer": "ipython3",
   "version": "3.7.4"
  }
 },
 "nbformat": 4,
 "nbformat_minor": 2
}
